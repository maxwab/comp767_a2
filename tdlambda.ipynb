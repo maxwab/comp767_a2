{
 "cells": [
  {
   "cell_type": "code",
   "execution_count": 1,
   "metadata": {
    "collapsed": false
   },
   "outputs": [],
   "source": [
    "import numpy as np\n",
    "import tiles\n",
    "import angles\n",
    "import value_function\n",
    "import algorithms\n",
    "import policy\n",
    "from env import ResetableEnv\n",
    "from functools import partial\n",
    "from tqdm import tqdm"
   ]
  },
  {
   "cell_type": "code",
   "execution_count": 2,
   "metadata": {
    "collapsed": true
   },
   "outputs": [],
   "source": [
    "import matplotlib.pyplot as plt\n"
   ]
  },
  {
   "cell_type": "code",
   "execution_count": 3,
   "metadata": {
    "collapsed": false
   },
   "outputs": [
    {
     "name": "stdout",
     "output_type": "stream",
     "text": [
      "\u001b[33mWARN: gym.spaces.Box autodetected dtype as <class 'numpy.float32'>. Please provide explicit dtype.\u001b[0m\n",
      "\u001b[33mWARN: gym.spaces.Box autodetected dtype as <class 'numpy.float32'>. Please provide explicit dtype.\u001b[0m\n"
     ]
    }
   ],
   "source": [
    "import gym\n",
    "base_env = gym.make('Pendulum-v0')\n",
    "env = ResetableEnv(base_env)"
   ]
  },
  {
   "cell_type": "code",
   "execution_count": 12,
   "metadata": {
    "collapsed": true
   },
   "outputs": [],
   "source": [
    "# Initialisation of the hyperparameters\n",
    "LEN_EPISODE = 200 # The task is non-episodic so we define the len of an episode as 200 (like openAI gym)\n",
    "N_EPISODES = 200\n",
    "GAMMA = .95\n",
    "LAMBDA = 0.0\n",
    "ALPHA = 1/4\n",
    "N_TILES = 5\n",
    "N_BINS = 10"
   ]
  },
  {
   "cell_type": "code",
   "execution_count": 13,
   "metadata": {
    "collapsed": false
   },
   "outputs": [
    {
     "name": "stdout",
     "output_type": "stream",
     "text": [
      "500 parameters\n"
     ]
    }
   ],
   "source": [
    "# Initialize the tiles\n",
    "tiles_intervals = tiles.get_intervals(N_TILES, N_BINS)\n",
    "n_params = len(tiles_intervals) * N_BINS**2\n",
    "print('{} parameters'.format(n_params))\n",
    "w = (2*np.random.rand(n_params)-1)/1000\n",
    "z = np.zeros((n_params, ))\n",
    "alpha = ALPHA / N_TILES"
   ]
  },
  {
   "cell_type": "code",
   "execution_count": 14,
   "metadata": {
    "collapsed": true
   },
   "outputs": [],
   "source": [
    "v = value_function.linear_approx\n",
    "g = value_function.linear_approx_grad"
   ]
  },
  {
   "cell_type": "code",
   "execution_count": 15,
   "metadata": {
    "collapsed": true
   },
   "outputs": [],
   "source": [
    "phi_0 = tiles.encode(np.array([[1.0, 0.0, 0.0]]), tiles_intervals)"
   ]
  },
  {
   "cell_type": "code",
   "execution_count": 16,
   "metadata": {
    "collapsed": false
   },
   "outputs": [
    {
     "data": {
      "text/plain": [
       "-4.163211655327251e-05"
      ]
     },
     "execution_count": 16,
     "metadata": {},
     "output_type": "execute_result"
    }
   ],
   "source": [
    "v(phi_0, w)"
   ]
  },
  {
   "cell_type": "code",
   "execution_count": 17,
   "metadata": {
    "collapsed": true
   },
   "outputs": [],
   "source": [
    "from copy import deepcopy"
   ]
  },
  {
   "cell_type": "code",
   "execution_count": 18,
   "metadata": {
    "collapsed": false,
    "scrolled": true
   },
   "outputs": [
    {
     "name": "stderr",
     "output_type": "stream",
     "text": [
      "100%|██████████| 200/200 [00:15<00:00, 12.77it/s]\n"
     ]
    }
   ],
   "source": [
    "l = []\n",
    "for _ in tqdm(range(200)):\n",
    "    # Loop\n",
    "    obs = env.reset().reshape(1, -1)\n",
    "    rews = 0\n",
    "    for i in range(LEN_EPISODE):\n",
    "\n",
    "        action = policy.policy(obs)\n",
    "        phi = tiles.encode(obs, tiles_intervals)\n",
    "        next_obs, rew, done, _ = env.renv.step(action)\n",
    "        next_obs = next_obs.reshape(1, -1)\n",
    "        next_phi = tiles.encode(next_obs, tiles_intervals)\n",
    "\n",
    "        w, z = algorithms.update_tdlambda(w, z, phi, rew, next_phi, v, g, alpha_ = alpha, lambda_ = LAMBDA, gamma_ = GAMMA)\n",
    "        obs = next_obs\n",
    "        rews += rew\n",
    "        \n",
    "    l.append(deepcopy(v(phi_0, w)))"
   ]
  },
  {
   "cell_type": "code",
   "execution_count": 11,
   "metadata": {
    "collapsed": false,
    "scrolled": true
   },
   "outputs": [
    {
     "data": {
      "image/png": "[encoded data removed]",
      "text/plain": [
       "<Figure size 432x288 with 1 Axes>"
      ]
     },
     "metadata": {},
     "output_type": "display_data"
    }
   ],
   "source": [
    "plt.figure()\n",
    "plt.plot(l)\n",
    "plt.show()"
   ]
  },
  {
   "cell_type": "code",
   "execution_count": 19,
   "metadata": {
    "collapsed": false
   },
   "outputs": [
    {
     "data": {
      "image/png": "[encoded data removed]",
      "text/plain": [
       "<Figure size 432x288 with 1 Axes>"
      ]
     },
     "metadata": {},
     "output_type": "display_data"
    }
   ],
   "source": [
    "plt.figure()\n",
    "plt.plot(l)\n",
    "plt.show()"
   ]
  },
  {
   "cell_type": "code",
   "execution_count": null,
   "metadata": {
    "collapsed": true
   },
   "outputs": [],
   "source": []
  }
 ],
 "metadata": {
  "kernelspec": {
   "display_name": "Python [conda env:drlbx]",
   "language": "python",
   "name": "conda-env-drlbx-py"
  },
  "language_info": {
   "codemirror_mode": {
    "name": "ipython",
    "version": 3
   },
   "file_extension": ".py",
   "mimetype": "text/x-python",
   "name": "python",
   "nbconvert_exporter": "python",
   "pygments_lexer": "ipython3",
   "version": "3.6.8"
  }
 },
 "nbformat": 4,
 "nbformat_minor": 2
}
